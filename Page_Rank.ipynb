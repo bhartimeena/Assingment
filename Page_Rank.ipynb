{
  "nbformat": 4,
  "nbformat_minor": 0,
  "metadata": {
    "colab": {
      "name": "Page Rank.ipynb",
      "provenance": [],
      "authorship_tag": "ABX9TyMdQp+Y8Lc8h4RcvlRILYjG",
      "include_colab_link": true
    },
    "kernelspec": {
      "name": "python3",
      "display_name": "Python 3"
    },
    "language_info": {
      "name": "python"
    }
  },
  "cells": [
    {
      "cell_type": "markdown",
      "metadata": {
        "id": "view-in-github",
        "colab_type": "text"
      },
      "source": [
        "<a href=\"https://colab.research.google.com/github/bhartimeena/Assingment/blob/main/Page_Rank.ipynb\" target=\"_parent\"><img src=\"https://colab.research.google.com/assets/colab-badge.svg\" alt=\"Open In Colab\"/></a>"
      ]
    },
    {
      "cell_type": "code",
      "metadata": {
        "id": "z_Y5r38Fsv_r"
      },
      "source": [
        "from google.colab import drive\n",
        "import numpy as np\n",
        "from scipy.sparse import dok_matrix\n",
        "import networkx as nx\n"
      ],
      "execution_count": 1,
      "outputs": []
    },
    {
      "cell_type": "code",
      "metadata": {
        "colab": {
          "base_uri": "https://localhost:8080/"
        },
        "id": "-A-5L4pvsx-v",
        "outputId": "cdc994dd-4303-4604-a1f1-506795c60548"
      },
      "source": [
        "drive.mount('/content/drive')"
      ],
      "execution_count": 2,
      "outputs": [
        {
          "output_type": "stream",
          "name": "stdout",
          "text": [
            "Mounted at /content/drive\n"
          ]
        }
      ]
    },
    {
      "cell_type": "code",
      "metadata": {
        "id": "KT5HxB9Os2pG"
      },
      "source": [
        "% cd /content/drive/MyDrive/Colab Notebooks/Page Rank/\n",
        "% ls\n"
      ],
      "execution_count": null,
      "outputs": []
    },
    {
      "cell_type": "code",
      "metadata": {
        "colab": {
          "base_uri": "https://localhost:8080/"
        },
        "id": "wonC47Uys5wL",
        "outputId": "70704ef1-f07b-4fcb-fbb0-1be26301c216"
      },
      "source": [
        "# Now , here I will try to show the sparse matrix looks like and also showing the small prototype of the graph made out of the nodes and the edges ...\n",
        "# Since , drawing the graph for the original dataset won't be possible as the collab session times out after 1 hr. in my PC , ad also it shows the estimated time to be around 5 hr .\n",
        "\n",
        "A = np.array([\n",
        "  [0, 0, 1, 1],\n",
        "  [1, 0, 1, 0],\n",
        "  [1, 1, 0, 1],\n",
        "  [1, 1, 1, 0],\n",
        "])\n",
        "A = A/np.sum(A, axis=0)\n",
        "v = np.array([1, 1, 1, 1])\n",
        "v = v/np.sum(v)\n",
        "v = v.reshape((4, 1))\n",
        "A\n"
      ],
      "execution_count": 5,
      "outputs": [
        {
          "output_type": "execute_result",
          "data": {
            "text/plain": [
              "array([[0.        , 0.        , 0.33333333, 0.5       ],\n",
              "       [0.33333333, 0.        , 0.33333333, 0.        ],\n",
              "       [0.33333333, 0.5       , 0.        , 0.5       ],\n",
              "       [0.33333333, 0.5       , 0.33333333, 0.        ]])"
            ]
          },
          "metadata": {},
          "execution_count": 5
        }
      ]
    },
    {
      "cell_type": "code",
      "metadata": {
        "colab": {
          "base_uri": "https://localhost:8080/",
          "height": 319
        },
        "id": "CUvFR2S_s8_Z",
        "outputId": "c35e74a8-dcba-4ea0-d6af-8105db3dfed9"
      },
      "source": [
        "G = nx.DiGraph()\n",
        "for ii, i in enumerate(A):\n",
        "  for jj, j in enumerate(i):\n",
        "    if j>0:\n",
        "      G.add_edge(ii, jj, weight=j)\n",
        "nx.draw(G, with_labels=True)"
      ],
      "execution_count": 6,
      "outputs": [
        {
          "output_type": "display_data",
          "data": {
            "image/png": "[encoded data removed]",
            "text/plain": [
              "<Figure size 432x288 with 1 Axes>"
            ]
          },
          "metadata": {}
        }
      ]
    },
    {
      "cell_type": "code",
      "metadata": {
        "colab": {
          "base_uri": "https://localhost:8080/"
        },
        "id": "5c_cG7oatAVU",
        "outputId": "5b354ab5-8562-4aa8-c032-e9172b6250fa"
      },
      "source": [
        "print(\"Nodes are : \" ,list(G.nodes))\n",
        "print(\"Edges are : \" ,list(G.edges))\n"
      ],
      "execution_count": 7,
      "outputs": [
        {
          "output_type": "stream",
          "name": "stdout",
          "text": [
            "Nodes are :  [0, 2, 3, 1]\n",
            "Edges are :  [(0, 2), (0, 3), (2, 0), (2, 1), (2, 3), (3, 0), (3, 1), (3, 2), (1, 0), (1, 2)]\n"
          ]
        }
      ]
    },
    {
      "cell_type": "code",
      "metadata": {
        "id": "g1F7vcU5twiS"
      },
      "source": [
        "# Now the actual code for the page rank starts ......\n",
        "# So , now from the web Standford.txt file , we perform the page ranking \n",
        "G = nx.DiGraph()\n",
        "dims = 281903 # because these are these many of the nodes which hase been printed below..\n",
        "sparse_matrix = dok_matrix((dims, dims), dtype=np.float32)\n",
        "D = np.zeros(dims)\n",
        "\n",
        "with open('web-Stanford.txt', 'r') as f:\n",
        "  # skipping first 4 comments, as these details are not required for the page rank algorithm ..\n",
        "  for i in range(4):\n",
        "    next(f)\n",
        "  for i in f:\n",
        "    start_node, end_node = list(map(int, i.split()))\n",
        "    G.add_edge(start_node, end_node)\n",
        "    D[start_node-1] = D[start_node-1] + 1\n",
        "\n",
        "with open('web-Stanford.txt', 'r') as f:\n",
        "  # skipping first 4 comments, can be done by putting condition of '#'and also as these details are not required for the page rank algorithm\n",
        "  for i in range(4):\n",
        "    next(f)\n",
        "  for i in f:\n",
        "    start_node, end_node = list(map(int, i.split()))\n",
        "    sparse_matrix[start_node-1, end_node-1] = 1/D[start_node-1]\n",
        "sparse_matrix = sparse_matrix.tocsr()\n",
        "\n",
        "print(sparse_matrix)"
      ],
      "execution_count": null,
      "outputs": []
    },
    {
      "cell_type": "code",
      "metadata": {
        "id": "9L0HFV7cuAUF"
      },
      "source": [
        ""
      ],
      "execution_count": null,
      "outputs": []
    },
    {
      "cell_type": "code",
      "metadata": {
        "colab": {
          "base_uri": "https://localhost:8080/"
        },
        "id": "Z5PwF1Ltt32g",
        "outputId": "7405a0bc-0a60-439c-993d-e7e553997a48"
      },
      "source": [
        "print(\"Total Nodes : \" ,len(list(G.nodes)))\n",
        "print(\"Total Edges : \" ,len(list(G.edges)))\n",
        "# nx.draw(G, with_labels=True)"
      ],
      "execution_count": 9,
      "outputs": [
        {
          "output_type": "stream",
          "name": "stdout",
          "text": [
            "Total Nodes :  0\n",
            "Total Edges :  0\n"
          ]
        }
      ]
    },
    {
      "cell_type": "code",
      "metadata": {
        "id": "tDmJgIUguB77"
      },
      "source": [
        "def get_ranks(H, v, N, dangling_factor=0.85):\n",
        "  iters = 0\n",
        "  while True:\n",
        "    new_v = dangling_factor * (H @ v) + (1-dangling_factor)/N\n",
        "    \n",
        "    iters+=1\n",
        "    if np.allclose(new_v, v):\n",
        "      break\n",
        "    v = new_v\n",
        "  print(iters)\n",
        "  print(v)\n",
        "  return v\n",
        "v = np.ones(dims)/dims\n",
        "z = get_ranks(sparce_matrix, v, dims)\n",
        "\n",
        "# Over here we have taken the default value of the Damping factor to be 0.85 and then this function is going to return the rank of the pages or documents.\n",
        "# We are returning the the iteration taken and also the the vector V finally ."
      ],
      "execution_count": null,
      "outputs": []
    },
    {
      "cell_type": "code",
      "metadata": {
        "id": "TBnHYCnJuGzf"
      },
      "source": [
        "# checking if the sum of the probabilities is close to 1 or not ..\n",
        "np.sum(z)\n"
      ],
      "execution_count": null,
      "outputs": []
    }
  ]
}